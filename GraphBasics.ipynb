{
 "cells": [
  {
   "cell_type": "markdown",
   "metadata": {},
   "source": [
    "# Learning Graph Networks\n",
    "\n",
    "Here I will be learning the basics of graph neural networks using the SNAP Wikipedia vote network and simultaneously getting to grips with PyTorch, specifically PyTorch Geometric."
   ]
  },
  {
   "cell_type": "code",
   "execution_count": 3,
   "metadata": {},
   "outputs": [],
   "source": [
    "import torch\n",
    "import torch_geometric as pyg"
   ]
  },
  {
   "cell_type": "code",
   "execution_count": 7,
   "metadata": {},
   "outputs": [],
   "source": [
    "# node attributes\n",
    "vec_feat = torch.tensor([[2,1], [5,6], [3,7], [12,0]], dtype=torch.float)\n",
    "class_target = torch.tensor([0, 1, 0, 1], dtype=torch.float)\n",
    "\n",
    "# edges\n",
    "edges = torch.tensor([[0, 0, 1, 2, 3], [1, 3, 0, 1, 2]], dtype=torch.long)\n",
    "\n",
    "data = geo.data.Data(x=vec_feat, y=class_target, edge_index=edges)"
   ]
  },
  {
   "cell_type": "code",
   "execution_count": 9,
   "metadata": {},
   "outputs": [],
   "source": [
    "class MyDataset(geo.data.InMemoryDataset):\n",
    "    def __init__(self, root, transform=None, pre_transform=None):\n",
    "        super(MyDataset, self).__init__(root, transform, pre_transform)\n",
    "        self.data, self.slices = torch.load(self.processed_paths[0])\n",
    "        \n",
    "    @property\n",
    "    def raw_file_names(self):\n",
    "        return ['some_file_1', 'some_file_2', ... ]\n",
    "    \n",
    "    @property\n",
    "    def processed_file_names(self):\n",
    "        return ['data.pt']\n",
    "    \n",
    "    def download(self):\n",
    "        # Download to self.raw_dir\n",
    "        pass\n",
    "        \n",
    "    def process(self):\n",
    "        # Read data into huge 'Data' list\n",
    "        data_list = [...]\n",
    "        \n",
    "        if self.pre_filter is not None:\n",
    "            data_list = [data for data in data_list if self.pre_filter(data)]\n",
    "            \n",
    "        if self.pre_transform is not None:\n",
    "            data_list = [self.pre_transform(data) for data in data_list]\n",
    "            \n",
    "        data, slices = self.collate(data_list)\n",
    "        toch.save((data, slices), self.processed_paths[0])\n",
    "    "
   ]
  },
  {
   "cell_type": "code",
   "execution_count": 10,
   "metadata": {
    "scrolled": false
   },
   "outputs": [
    {
     "ename": "NameError",
     "evalue": "name 'Dataloader' is not defined",
     "output_type": "error",
     "traceback": [
      "\u001b[0;31m---------------------------------------------------------------------------\u001b[0m",
      "\u001b[0;31mNameError\u001b[0m                                 Traceback (most recent call last)",
      "\u001b[0;32m<ipython-input-10-e5a3b34a5a60>\u001b[0m in \u001b[0;36m<module>\u001b[0;34m\u001b[0m\n\u001b[0;32m----> 1\u001b[0;31m \u001b[0mloader\u001b[0m \u001b[0;34m=\u001b[0m \u001b[0mDataloader\u001b[0m\u001b[0;34m(\u001b[0m\u001b[0mdataset\u001b[0m\u001b[0;34m,\u001b[0m \u001b[0mbatch_size\u001b[0m\u001b[0;34m=\u001b[0m\u001b[0;36m512\u001b[0m\u001b[0;34m,\u001b[0m \u001b[0mshuffle\u001b[0m\u001b[0;34m=\u001b[0m\u001b[0;32mTrue\u001b[0m\u001b[0;34m)\u001b[0m\u001b[0;34m\u001b[0m\u001b[0;34m\u001b[0m\u001b[0m\n\u001b[0m",
      "\u001b[0;31mNameError\u001b[0m: name 'Dataloader' is not defined"
     ]
    }
   ],
   "source": [
    "loader = Dataloader(dataset, batch_size=512, shuffle=True)"
   ]
  },
  {
   "cell_type": "markdown",
   "metadata": {},
   "source": [
    "Now to define the model. I will be using the vanilla Graph Convolutional operator provided by PyTorch Geometric for the input layers. I will be taking inspiration from [this notebook](https://colab.research.google.com/drive/1DIQm9rOx2mT1bZETEeVUThxcrP1RKqAn)"
   ]
  },
  {
   "cell_type": "code",
   "execution_count": null,
   "metadata": {},
   "outputs": [],
   "source": [
    "class GCNetwork(nn.Module):\n",
    "    def __init__(self, input_dim, output_dim):\n",
    "        super(GCNetwork, self).__init__()\n",
    "        \n",
    "        embedding_size = 32\n",
    "        hidden_layer = 16\n",
    "        self.network = nn.Sequential(\n",
    "            pyg.nn.GCNConv(input_dim, embedding_size),\n",
    "            torch.nn.ReLu(),\n",
    "            torch.nn.Dropout(0.25),\n",
    "            pyg.nn.GCNConv(embedding_size, embedding_size),\n",
    "            torch.nn.ReLu(),\n",
    "            torch.nn.Dropout(0.25),\n",
    "            torch.nn.Linear(embedding_size, hidden_layer),\n",
    "            torch.nn.ReLu(),\n",
    "            torch.nn.Dropout(0.25),\n",
    "            torch.nn.Linear(hidden_layer, output_dim)\n",
    "        )"
   ]
  }
 ],
 "metadata": {
  "kernelspec": {
   "display_name": "Python 3",
   "language": "python",
   "name": "python3"
  },
  "language_info": {
   "codemirror_mode": {
    "name": "ipython",
    "version": 3
   },
   "file_extension": ".py",
   "mimetype": "text/x-python",
   "name": "python",
   "nbconvert_exporter": "python",
   "pygments_lexer": "ipython3",
   "version": "3.7.4"
  }
 },
 "nbformat": 4,
 "nbformat_minor": 4
}
